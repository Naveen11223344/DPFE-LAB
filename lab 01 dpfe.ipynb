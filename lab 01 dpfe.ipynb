{
 "cells": [
  {
   "cell_type": "code",
   "execution_count": 13,
   "id": "ad74de5a",
   "metadata": {},
   "outputs": [
    {
     "name": "stdout",
     "output_type": "stream",
     "text": [
      "     cars cost\n",
      "0    audi   1l\n",
      "1    benz   2l\n",
      "2  toyota   3l\n"
     ]
    }
   ],
   "source": [
    "#series\n",
    "import pandas as pd\n",
    "a={\"cars\":[\"audi\",\"benz\",\"toyota\"],\"cost\":[\"1l\",\"2l\",\"3l\"]}\n",
    "pd.DataFrame(a)#this statement just creates the dataFrame but u cant call it as u didnt assigned it to some var so do assign as below\n",
    "db=pd.DataFrame(a)\n",
    "print(db)"
   ]
  },
  {
   "cell_type": "code",
   "execution_count": null,
   "id": "addc66dd",
   "metadata": {},
   "outputs": [],
   "source": []
  },
  {
   "cell_type": "code",
   "execution_count": 14,
   "id": "e47fed65",
   "metadata": {},
   "outputs": [
    {
     "name": "stdout",
     "output_type": "stream",
     "text": [
      "series of list a\n",
      "0    1\n",
      "1    2\n",
      "2    3\n",
      "dtype: int64\n",
      "series of ndarray b\n",
      "0    1\n",
      "1    2\n",
      "2    3\n",
      "dtype: int32\n"
     ]
    }
   ],
   "source": [
    "import numpy as np\n",
    "a=[1,2,3]#u might think as u said array but it is list the thing list is also array but numpy arrays are ndarray\n",
    "#or\n",
    "b=np.array([1,2,3])\n",
    "ase=pd.Series(a)\n",
    "bse=pd.Series(b)\n",
    "print(\"series of list a\")\n",
    "print(ase)\n",
    "print(\"series of ndarray b\")\n",
    "print(bse)"
   ]
  },
  {
   "cell_type": "code",
   "execution_count": 15,
   "id": "becc111d",
   "metadata": {},
   "outputs": [
    {
     "name": "stdout",
     "output_type": "stream",
     "text": [
      "without labelling using index\n",
      "0    1\n",
      "1    2\n",
      "2    3\n",
      "dtype: int32\n",
      "with labelling using index\n",
      "1st row    1\n",
      "2nd row    2\n",
      "3rd row    3\n",
      "dtype: int32\n"
     ]
    }
   ],
   "source": [
    "## label(labelling rows with our own indexes other than normal index(0,1,2..))\n",
    "k=np.array([1,2,3])\n",
    "print(\"without labelling using index\")\n",
    "ks1=pd.Series(k)\n",
    "print(ks1)\n",
    "print(\"with labelling using index\")\n",
    "ks2=pd.Series(k,index=[\"1st row\",\"2nd row\",\"3rd row\"])\n",
    "print(ks2)"
   ]
  },
  {
   "cell_type": "code",
   "execution_count": 16,
   "id": "c84bffe3",
   "metadata": {},
   "outputs": [],
   "source": [
    "#dataframes"
   ]
  },
  {
   "cell_type": "code",
   "execution_count": 17,
   "id": "60f3346a",
   "metadata": {},
   "outputs": [],
   "source": [
    "#creating a dataframe\n",
    "import pandas as pd\n",
    "a={\"calories\": [420, 380, 390],\n",
    "  \"duration\": [50, 40, 45]}\n",
    "df=pd.DataFrame(a)"
   ]
  },
  {
   "cell_type": "code",
   "execution_count": 18,
   "id": "2e16a4d9",
   "metadata": {},
   "outputs": [
    {
     "name": "stdout",
     "output_type": "stream",
     "text": [
      "    calories  duration\n",
      "r1       420        50\n",
      "r2       380        40\n",
      "r3       390        45\n"
     ]
    }
   ],
   "source": [
    "#index=[]\n",
    "import pandas as pd\n",
    "a={\"calories\": [420, 380, 390],\n",
    "  \"duration\": [50, 40, 45]}\n",
    "df=pd.DataFrame(a,index=[\"r1\",\"r2\",\"r3\"])\n",
    "print(df)"
   ]
  },
  {
   "cell_type": "code",
   "execution_count": 19,
   "id": "17616507",
   "metadata": {},
   "outputs": [
    {
     "name": "stdout",
     "output_type": "stream",
     "text": [
      "   calories  duration\n",
      "0       420        50\n",
      "1       380        40\n",
      "2       390        45\n",
      "calories    420\n",
      "duration     50\n",
      "Name: 0, dtype: int64\n"
     ]
    }
   ],
   "source": [
    "# if we want to access a particular the comes the concept of loc[]\n",
    "#loc[]\n",
    "#loc[] on explicitly unindexed dataframe\n",
    "import pandas as pd\n",
    "a={\"calories\": [420, 380, 390],\n",
    "  \"duration\": [50, 40, 45]}\n",
    "df=pd.DataFrame(a)\n",
    "print(df)\n",
    "print(df.loc[0])#accessing row at index 0"
   ]
  },
  {
   "cell_type": "code",
   "execution_count": 20,
   "id": "4b92dc12",
   "metadata": {},
   "outputs": [
    {
     "name": "stdout",
     "output_type": "stream",
     "text": [
      "printing whole columns a\n",
      "1    1\n",
      "2    2\n",
      "3    3\n",
      "Name: a, dtype: int64\n",
      "printing multiple columns\n",
      "   a  b\n",
      "1  1  4\n",
      "2  2  5\n",
      "3  3  6\n"
     ]
    }
   ],
   "source": [
    "# How to access a PARTICULAR COLUMN or MULTIPLE COLUMNS\n",
    "import pandas as pd\n",
    "a={\"a\":[1,2,3],\"b\":[4,5,6],\"c\":[7,8,9]}\n",
    "df=pd.DataFrame(a,index=[1,2,3])\n",
    "        #ACCESSING PARTICULAR COLUMN(HERE WE ARE ACCESSING COL \"a\")\n",
    "print(\"printing whole columns a\")\n",
    "print(df[\"a\"])\n",
    "        #Accessing multiple columns to do so we need to pass the columns as list not directly as above df[\"a\",\"b\"]\n",
    "print(\"printing multiple columns\")\n",
    "print(df[[\"a\",\"b\"]])"
   ]
  },
  {
   "cell_type": "code",
   "execution_count": 21,
   "id": "fb7af5dd",
   "metadata": {},
   "outputs": [],
   "source": [
    "# How to access a PARTICULAR ROW or MULTIPLE ROWS\n",
    "#analysis after going through below things:\n",
    "   # 1)loc[] =for accessing labelled rows using labels and unlabelled rows using normal index(0,1,2,3)\n",
    "    #2)iloc[]=for accessing labelled row using normal index(0,1,2,3,4) as well as unlabelled rowsusing normal index(0,1,2,3,4)\n",
    "\n",
    "# accessing a row using loc[]\n",
    "#loc[]:\n",
    "   # 1)loc is used to access a row when we are know with the index of that row by passing the index of that row\n",
    "   # 2)the index of the row might be of any data type say 1 or \"a\" then loc[1],loc[\"a\"] respectively\n",
    "#NOTE:if the df or series are not indexed then in that case u can access the row by passing normal indexes(0,1,2,3,4) BUT if at all the data frame or series are indexed then in that case u cant access them directly using (0,1,2,3,4) u should use the particular label for sure \n",
    "\n"
   ]
  },
  {
   "cell_type": "code",
   "execution_count": 22,
   "id": "a735c999",
   "metadata": {},
   "outputs": [
    {
     "name": "stdout",
     "output_type": "stream",
     "text": [
      "Data Frame:\n",
      "       a     b     c\n",
      "r1  r1c1  r1c2  r1c3\n",
      "r2  r2c1  r2c2  r2c3\n",
      "r3  r3c1  r3c2  r3c3 \n",
      "\n",
      "printing the row with index \"r2\"(here it is second row)\n",
      "a    r2c1\n",
      "b    r2c2\n",
      "c    r2c3\n",
      "Name: r2, dtype: object \n",
      "\n",
      "printing the row with index \"r2\"(here it is second row) as df\n",
      "       a     b     c\n",
      "r2  r2c1  r2c2  r2c3 \n",
      "\n",
      "accessing when the indexes are 1,2,3 i.e numericals\n",
      "\n",
      "a    r2c1\n",
      "b    r2c2\n",
      "c    r2c3\n",
      "Name: 5, dtype: object \n",
      "\n"
     ]
    },
    {
     "ename": "NameError",
     "evalue": "name 'ab4' is not defined",
     "output_type": "error",
     "traceback": [
      "\u001b[1;31m---------------------------------------------------------------------------\u001b[0m",
      "\u001b[1;31mNameError\u001b[0m                                 Traceback (most recent call last)",
      "\u001b[1;32m~\\AppData\\Local\\Temp\\ipykernel_24076\\2205184304.py\u001b[0m in \u001b[0;36m<module>\u001b[1;34m\u001b[0m\n\u001b[0;32m     19\u001b[0m         \u001b[1;31m#accessing rows when we havent given any index\u001b[0m\u001b[1;33m\u001b[0m\u001b[1;33m\u001b[0m\u001b[0m\n\u001b[0;32m     20\u001b[0m \u001b[0mab44\u001b[0m\u001b[1;33m=\u001b[0m\u001b[1;33m{\u001b[0m\u001b[1;34m\"a\"\u001b[0m\u001b[1;33m:\u001b[0m\u001b[1;33m[\u001b[0m\u001b[1;34m\"r1c1\"\u001b[0m\u001b[1;33m,\u001b[0m\u001b[1;34m\"r2c1\"\u001b[0m\u001b[1;33m,\u001b[0m\u001b[1;34m\"r3c1\"\u001b[0m\u001b[1;33m]\u001b[0m\u001b[1;33m,\u001b[0m\u001b[1;34m\"b\"\u001b[0m\u001b[1;33m:\u001b[0m\u001b[1;33m[\u001b[0m\u001b[1;34m\"r1c2\"\u001b[0m\u001b[1;33m,\u001b[0m\u001b[1;34m\"r2c2\"\u001b[0m\u001b[1;33m,\u001b[0m\u001b[1;34m\"r3c2\"\u001b[0m\u001b[1;33m]\u001b[0m\u001b[1;33m,\u001b[0m\u001b[1;34m\"c\"\u001b[0m\u001b[1;33m:\u001b[0m\u001b[1;33m[\u001b[0m\u001b[1;34m\"r1c3\"\u001b[0m\u001b[1;33m,\u001b[0m\u001b[1;34m\"r2c3\"\u001b[0m\u001b[1;33m,\u001b[0m\u001b[1;34m\"r3c3\"\u001b[0m\u001b[1;33m]\u001b[0m\u001b[1;33m}\u001b[0m\u001b[1;33m\u001b[0m\u001b[1;33m\u001b[0m\u001b[0m\n\u001b[1;32m---> 21\u001b[1;33m \u001b[0mdf44\u001b[0m\u001b[1;33m=\u001b[0m\u001b[0mpd\u001b[0m\u001b[1;33m.\u001b[0m\u001b[0mDataFrame\u001b[0m\u001b[1;33m(\u001b[0m\u001b[0mab4\u001b[0m\u001b[1;33m)\u001b[0m\u001b[1;33m\u001b[0m\u001b[1;33m\u001b[0m\u001b[0m\n\u001b[0m\u001b[0;32m     22\u001b[0m \u001b[1;31m#now the index will be default which means for (row1 index=0,row2 index=1 and so on)\u001b[0m\u001b[1;33m\u001b[0m\u001b[1;33m\u001b[0m\u001b[0m\n\u001b[0;32m     23\u001b[0m \u001b[0mprint\u001b[0m\u001b[1;33m(\u001b[0m\u001b[1;34m\"accessing rows when we havent given any index\"\u001b[0m\u001b[1;33m)\u001b[0m\u001b[1;33m\u001b[0m\u001b[1;33m\u001b[0m\u001b[0m\n",
      "\u001b[1;31mNameError\u001b[0m: name 'ab4' is not defined"
     ]
    }
   ],
   "source": [
    "import pandas as pd\n",
    "ab={\"a\":[\"r1c1\",\"r2c1\",\"r3c1\"],\"b\":[\"r1c2\",\"r2c2\",\"r3c2\"],\"c\":[\"r1c3\",\"r2c3\",\"r3c3\"]}\n",
    "df1=pd.DataFrame(ab,index=[\"r1\",\"r2\",\"r3\"])\n",
    "print(\"Data Frame:\")\n",
    "print(df1,\"\\n\")\n",
    "\n",
    "        #accessing the rows when indexes are strings\n",
    "#see here let us access the second row we know that here the index of second row is \"r2\" so:\n",
    "print(\"printing the row with index \\\"r2\\\"(here it is second row)\")#note to use \"\" inside a \"\" u need to use escape \\\n",
    "print(df1.loc[\"r2\"],\"\\n\")\n",
    "print(\"printing the row with index \\\"r2\\\"(here it is second row) as df\")\n",
    "print(df1.loc[[\"r2\"]],\"\\n\")\n",
    "print(\"accessing when the indexes are 1,2,3 i.e numericals\")\n",
    "abc={\"a\":[\"r1c1\",\"r2c1\",\"r3c1\"],\"b\":[\"r1c2\",\"r2c2\",\"r3c2\"],\"c\":[\"r1c3\",\"r2c3\",\"r3c3\"]}\n",
    "print(\"\")\n",
    "df2=pd.DataFrame(abc,index=[4,5,6])\n",
    "print(df2.loc[5],\"\\n\")\n",
    "\n",
    "        #accessing rows when we havent given any index\n",
    "ab44={\"a\":[\"r1c1\",\"r2c1\",\"r3c1\"],\"b\":[\"r1c2\",\"r2c2\",\"r3c2\"],\"c\":[\"r1c3\",\"r2c3\",\"r3c3\"]}\n",
    "df44=pd.DataFrame(ab4)\n",
    "#now the index will be default which means for (row1 index=0,row2 index=1 and so on)\n",
    "print(\"accessing rows when we havent given any index\")\n",
    "print(df44.loc[0])"
   ]
  },
  {
   "cell_type": "code",
   "execution_count": 23,
   "id": "324d0cc7",
   "metadata": {},
   "outputs": [
    {
     "name": "stdout",
     "output_type": "stream",
     "text": [
      "      a     b     c\n",
      "k  r1c1  r1c2  r1c3\n"
     ]
    }
   ],
   "source": [
    "# accessing a row using iloc[]\n",
    "import pandas as pd\n",
    "a7={\"a\":[\"r1c1\",\"r2c1\",\"r3c1\"],\"b\":[\"r1c2\",\"r2c2\",\"r3c2\"],\"c\":[\"r1c3\",\"r2c3\",\"r3c3\"]}\n",
    "df7=pd.DataFrame(a7,index=[\"k\",\"l\",\"m\"])\n",
    "print(df7.iloc[[0]])#see here the indexes are \"k\",\"l\",\"m\" but we are accessing with default indexes(0,1,2) #index start with 0\n",
    "#print(df.loc[0])# =gives error"
   ]
  },
  {
   "cell_type": "code",
   "execution_count": null,
   "id": "095f7512",
   "metadata": {},
   "outputs": [],
   "source": [
    "# accessing multiple rows and columns using loc[] and iloc[]"
   ]
  },
  {
   "cell_type": "code",
   "execution_count": 24,
   "id": "e94e865a",
   "metadata": {},
   "outputs": [
    {
     "name": "stdout",
     "output_type": "stream",
     "text": [
      "accessing multiple rows using iloc[]\n",
      "      a     b     c\n",
      "k  r1c1  r1c2  r1c3\n",
      "l  r2c1  r2c2  r2c3 \n",
      "\n",
      "accessing multiple rows using loc[]\n",
      "      a     b     c\n",
      "k  r1c1  r1c2  r1c3\n",
      "l  r2c1  r2c2  r2c3 \n",
      "\n"
     ]
    }
   ],
   "source": [
    "a7={\"a\":[\"r1c1\",\"r2c1\",\"r3c1\"],\"b\":[\"r1c2\",\"r2c2\",\"r3c2\"],\"c\":[\"r1c3\",\"r2c3\",\"r3c3\"]}\n",
    "df7=pd.DataFrame(a7,index=[\"k\",\"l\",\"m\"])\n",
    "\n",
    "        #accessing multiple rows using iloc[]\n",
    "print(\"accessing multiple rows using iloc[]\")\n",
    "print(df7.iloc[[0,1]],\"\\n\")\n",
    "\n",
    "         #accessing multiple rows using loc[]\n",
    "print(\"accessing multiple rows using loc[]\")\n",
    "print(df7.loc[[\"k\",\"l\"]],\"\\n\")"
   ]
  },
  {
   "cell_type": "code",
   "execution_count": null,
   "id": "251f6889",
   "metadata": {},
   "outputs": [],
   "source": []
  },
  {
   "cell_type": "code",
   "execution_count": null,
   "id": "599a5468",
   "metadata": {},
   "outputs": [],
   "source": []
  }
 ],
 "metadata": {
  "kernelspec": {
   "display_name": "Python 3 (ipykernel)",
   "language": "python",
   "name": "python3"
  },
  "language_info": {
   "codemirror_mode": {
    "name": "ipython",
    "version": 3
   },
   "file_extension": ".py",
   "mimetype": "text/x-python",
   "name": "python",
   "nbconvert_exporter": "python",
   "pygments_lexer": "ipython3",
   "version": "3.9.13"
  }
 },
 "nbformat": 4,
 "nbformat_minor": 5
}
